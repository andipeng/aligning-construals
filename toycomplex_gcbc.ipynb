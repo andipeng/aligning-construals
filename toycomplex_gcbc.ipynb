{
 "cells": [
  {
   "cell_type": "code",
   "execution_count": 1,
   "id": "0b0f04c0-b995-48ad-b9db-00745cd52376",
   "metadata": {},
   "outputs": [],
   "source": [
    "'''\n",
    "GCBC with point maze (with multi-goal + color state space)\n",
    "'''\n",
    "from __future__ import print_function, division, unicode_literals\n",
    "%load_ext autoreload\n",
    "%autoreload 2\n",
    "import math\n",
    "import time\n",
    "import os\n",
    "import copy\n",
    "import unicodedata\n",
    "import string\n",
    "import re\n",
    "import random\n",
    "from io import open\n",
    "\n",
    "import torch\n",
    "import torch.optim as optim\n",
    "import torch.nn as nn\n",
    "import torch.nn.functional as F\n",
    "from torch.utils.data import Dataset, DataLoader\n",
    "from torch import distributions as pyd\n",
    "\n",
    "import numpy as np\n",
    "import matplotlib\n",
    "import matplotlib.pyplot as plt\n",
    "from matplotlib import cm\n",
    "%matplotlib inline\n",
    "import seaborn as sns\n",
    "\n",
    "# Ignore warnings\n",
    "import warnings\n",
    "warnings.filterwarnings(\"ignore\")\n",
    "plt.ion()   # interactive mode - o\n",
    "\n",
    "device = torch.device(\"cuda\" if torch.cuda.is_available() else \"cpu\")"
   ]
  },
  {
   "cell_type": "code",
   "execution_count": 2,
   "id": "ec198b80-0ffe-4340-8215-9eb257929cb7",
   "metadata": {},
   "outputs": [],
   "source": [
    "# Define simple MLP\n",
    "class MLP(nn.Module):\n",
    "    def __init__(\n",
    "        self, input_dim, hidden_dim, output_dim, hidden_depth, output_mod=None\n",
    "    ):\n",
    "        super().__init__()\n",
    "        self.trunk = mlp(input_dim, hidden_dim, output_dim, hidden_depth, output_mod)\n",
    "        self.apply(weight_init)\n",
    "\n",
    "    def forward(self, x):\n",
    "        return self.trunk(x)\n",
    "    \n",
    "def mlp(input_dim, hidden_dim, output_dim, hidden_depth, output_mod=None):\n",
    "    if hidden_depth == 0:\n",
    "        mods = [nn.Linear(input_dim, output_dim)]\n",
    "    else:\n",
    "        mods = [nn.Linear(input_dim, hidden_dim), nn.ReLU(inplace=True)]\n",
    "        for i in range(hidden_depth - 1):\n",
    "            mods += [nn.Linear(hidden_dim, hidden_dim), nn.ReLU(inplace=True)]\n",
    "        mods.append(nn.Linear(hidden_dim, output_dim))\n",
    "    if output_mod is not None:\n",
    "        mods.append(output_mod)\n",
    "    trunk = nn.Sequential(*mods)\n",
    "    return trunk\n",
    "\n",
    "# Custom weight init for Conv2D and Linear layers\n",
    "def weight_init(m):\n",
    "    if isinstance(m, nn.Linear):\n",
    "        nn.init.orthogonal_(m.weight.data)\n",
    "        if hasattr(m.bias, \"data\"):\n",
    "            m.bias.data.fill_(0.0)"
   ]
  },
  {
   "cell_type": "code",
   "execution_count": 223,
   "id": "7c8ba699-052b-4963-bc27-366082dc1cef",
   "metadata": {},
   "outputs": [],
   "source": [
    "# Goal-conditioned Point Maze (with multi state + color)\n",
    "import gym\n",
    "import gym.wrappers\n",
    "\n",
    "class PointEnvComplex(gym.Env):\n",
    "    def __init__(self):\n",
    "        self.pos = np.array([0., 0.])\n",
    "        self.obj1_pos = np.array([1., 1.])\n",
    "        self.obj1_color = np.array([0.])\n",
    "        self.obj2_pos = np.array([1., 0.])\n",
    "        self.obj2_color = np.array([0.])\n",
    "        self.obj3_pos = np.array([-1., 0.])\n",
    "        self.obj3_color = np.array([0.])\n",
    "        self.goal_pos = np.array([-9., -9.])\n",
    "        self.goal_color = np.array([0.])\n",
    "        self.max_vel = 1.\n",
    "        self.observation_space = gym.spaces.Box(\n",
    "            -np.inf * np.ones(14), np.inf * np.ones(14)\n",
    "        )\n",
    "        self.action_space = gym.spaces.Box(-np.ones(2), np.ones(2))\n",
    "        self.action_space.seed(0)\n",
    "        self.observation_space.seed(0)\n",
    "\n",
    "    def reset(self):\n",
    "        self.pos = np.zeros(2)\n",
    "        self.obj1_pos = np.zeros(2)\n",
    "        self.obj1_color = np.zeros(1)\n",
    "        self.obj2_pos = np.zeros(2)\n",
    "        self.obj2_color = np.zeros(1)\n",
    "        self.obj3_pos = np.zeros(2)\n",
    "        self.obj3_color = np.zeros(1)\n",
    "        self.goal_pos = np.zeros(2)\n",
    "        self.goal_color = np.zeros(1)\n",
    "        return self.get_obs()\n",
    "\n",
    "    def get_obs(self):\n",
    "        return copy.deepcopy(np.concatenate([self.pos, self.obj1_pos, self.obj1_color, self.obj2_pos, self.obj2_color, self.obj3_pos, self.obj3_color, self.goal_color]))\n",
    "\n",
    "    def step(self, action: np.ndarray):\n",
    "        self.pos += self.max_vel*action\n",
    "        reward = -np.linalg.norm((self.pos - self.goal_pos))\n",
    "        return self.get_obs(), reward, False, {}\n",
    "    \n",
    "    def reward_fn(self, state):\n",
    "        return -torch.linalg.norm((state - torch.Tensor(self.goal_pos).to(device)), dim=-1)\n",
    "\n",
    "    def get_color(self, env_value):\n",
    "        if env_value == 0:\n",
    "            return 'red'\n",
    "        elif env_value == 1:\n",
    "            return 'blue'\n",
    "        elif env_value == 2:\n",
    "            return 'green'\n",
    "        elif env_value == 3:\n",
    "            return 'yellow'\n",
    "\n",
    "env1 = PointEnvComplex()"
   ]
  },
  {
   "cell_type": "code",
   "execution_count": 224,
   "id": "7436176d-d523-4d37-adb6-fa31709f5915",
   "metadata": {},
   "outputs": [],
   "source": [
    "def plot_env(env):\n",
    "    plt.xlim(-10, 10)\n",
    "    plt.ylim(-10, 10)\n",
    "    colors = sns.color_palette(\"hls\", 10)\n",
    "    \n",
    "    plt.scatter([env.pos[0]],[env.pos[1]], marker='o', color='black', s=30) # plots agent\n",
    "    plt.scatter([env.obj1_pos[0]],[env.obj1_pos[1]], marker='s', color=env.get_color(env.obj1_color[0]), s=30) # plots obj1\n",
    "    plt.scatter([env.obj2_pos[0]],[env.obj2_pos[1]], marker='s', color=env.get_color(env.obj2_color[0]), s=30) # plots obj2\n",
    "    plt.scatter([env.obj3_pos[0]],[env.obj3_pos[1]], marker='s', color=env.get_color(env.obj3_color[0]), s=30) # plots obj3\n",
    "    plt.scatter([env.goal_pos[0]],[env.goal_pos[1]], marker='*', color=env.get_color(env.goal_color[0]), s=100) # plots obj3"
   ]
  },
  {
   "cell_type": "code",
   "execution_count": 225,
   "id": "b5b583db-a8ed-4200-b988-d82c7ffcd54a",
   "metadata": {},
   "outputs": [
    {
     "data": {
      "image/png": "[encoded data removed]",
      "text/plain": [
       "<Figure size 432x288 with 1 Axes>"
      ]
     },
     "metadata": {
      "needs_background": "light"
     },
     "output_type": "display_data"
    }
   ],
   "source": [
    "plot_env(env1)"
   ]
  },
  {
   "cell_type": "code",
   "execution_count": 226,
   "id": "299d7624-d136-40dd-8a28-cff8fa287b71",
   "metadata": {},
   "outputs": [],
   "source": [
    "# generates random trajs within specified constraints\n",
    "def gen_trajs(env, num_trajs=1, obj_angles=2*np.pi, obj_colors=4):\n",
    "    plt.xlim(-10, 10)\n",
    "    plt.ylim(-10, 10)\n",
    "    colors = sns.color_palette(\"hls\", 10)\n",
    "    \n",
    "    trajs = []\n",
    "    for traj in range(num_trajs):\n",
    "        env.reset()\n",
    "        # obj1\n",
    "        angle = np.random.uniform(0, obj_angles) # samples angle in radians (from range)\n",
    "        pos = np.array([5*np.cos(angle), 5*np.sin(angle)]) # samples random goal pos\n",
    "        color = np.array(random.randint(0, obj_colors-1)) # samples color from range\n",
    "        env.obj1_pos = pos\n",
    "        env.obj1_color = np.reshape(color, 1)\n",
    "        \n",
    "        # obj2\n",
    "        angle = np.random.uniform(0, obj_angles) # samples angle in radians (from range)\n",
    "        pos = np.array([5*np.cos(angle), 5*np.sin(angle)]) # samples random goal pos\n",
    "        color = np.array(random.randint(0, obj_colors-1)) # samples color from range\n",
    "        env.obj2_pos = pos\n",
    "        env.obj2_color = np.reshape(color, 1)\n",
    "        \n",
    "        # obj3\n",
    "        angle = np.random.uniform(0, obj_angles) # samples angle in radians (from range)\n",
    "        pos = np.array([5*np.cos(angle), 5*np.sin(angle)]) # samples random goal pos\n",
    "        color = np.array(random.randint(0, obj_colors-1)) # samples color from range\n",
    "        env.obj3_pos = pos\n",
    "        env.obj3_color = np.reshape(color, 1)\n",
    "        \n",
    "        # choose goal from random in objects\n",
    "        goal_obj = random.randint(1, 3)\n",
    "        if goal_obj == 1:\n",
    "            goal_pos = env.obj1_pos\n",
    "            goal_color = env.obj1_color\n",
    "        elif goal_obj == 2:\n",
    "            goal_pos = env.obj2_pos\n",
    "            goal_color = env.obj2_color\n",
    "        elif goal_obj == 3:\n",
    "            goal_pos = env.obj3_pos\n",
    "            goal_color = env.obj3_color\n",
    "        env.goal_pos = goal_pos\n",
    "        env.goal_color = goal_color\n",
    "        \n",
    "        # rolls out a trajectory towards the goal\n",
    "        traj = {'obs': [],'acts': [], 'next_obs': []}\n",
    "        delta_vector = env.goal_pos\n",
    "        o = env.get_obs()\n",
    "        for i in range(100):\n",
    "            act = delta_vector * 0.01 # Go in direction between start and end\n",
    "            no, r, d, _ = env.step(act)\n",
    "            traj['obs'].append(o.copy())\n",
    "            traj['acts'].append(act.copy())\n",
    "            traj['next_obs'].append(no.copy())\n",
    "            o = no\n",
    "        traj['obs'] = np.array(traj['obs'])\n",
    "        traj['acts'] = np.array(traj['acts'])\n",
    "        traj['next_obs'] = np.array(traj['next_obs'])\n",
    "        \n",
    "        plot_env(env)\n",
    "        plt.plot(traj['obs'][:, 0], traj['obs'][:, 1]) # plots trajs + goals\n",
    "        \n",
    "        trajs.append(traj)"
   ]
  },
  {
   "cell_type": "code",
   "execution_count": 257,
   "id": "ca051ea5-4cbd-4c14-be52-0c3f1c6bb6b0",
   "metadata": {},
   "outputs": [
    {
     "data": {
      "image/png": "[encoded data removed]",
      "text/plain": [
       "<Figure size 432x288 with 1 Axes>"
      ]
     },
     "metadata": {
      "needs_background": "light"
     },
     "output_type": "display_data"
    }
   ],
   "source": [
    "env = PointEnvComplex()\n",
    "trajs = gen_trajs(env, num_trajs=1, obj_angles=2*np.pi, obj_colors=1)"
   ]
  },
  {
   "cell_type": "code",
   "execution_count": 211,
   "id": "81d3eecf-ced1-4713-b8ad-1fe410366a26",
   "metadata": {},
   "outputs": [
    {
     "data": {
      "text/plain": [
       "array([-3.75311784, -3.30365048, -1.33032391, -4.81977575,  3.        ,\n",
       "       -2.44157621,  4.36333653,  1.        , -3.75311784, -3.30365048,\n",
       "        4.        ,  4.        ])"
      ]
     },
     "execution_count": 211,
     "metadata": {},
     "output_type": "execute_result"
    }
   ],
   "source": [
    "env.get_obs()"
   ]
  },
  {
   "cell_type": "code",
   "execution_count": null,
   "id": "63f0f96e-071d-4068-b47c-757f81ed761c",
   "metadata": {},
   "outputs": [],
   "source": []
  }
 ],
 "metadata": {
  "kernelspec": {
   "display_name": "Python [conda env:aligning-construals] *",
   "language": "python",
   "name": "conda-env-aligning-construals-py"
  },
  "language_info": {
   "codemirror_mode": {
    "name": "ipython",
    "version": 3
   },
   "file_extension": ".py",
   "mimetype": "text/x-python",
   "name": "python",
   "nbconvert_exporter": "python",
   "pygments_lexer": "ipython3",
   "version": "3.9.13"
  }
 },
 "nbformat": 4,
 "nbformat_minor": 5
}
